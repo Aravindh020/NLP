{
  "nbformat": 4,
  "nbformat_minor": 0,
  "metadata": {
    "colab": {
      "name": "NLP.ipynb",
      "provenance": [],
      "include_colab_link": true
    },
    "kernelspec": {
      "name": "python3",
      "display_name": "Python 3"
    }
  },
  "cells": [
    {
      "cell_type": "markdown",
      "metadata": {
        "id": "view-in-github",
        "colab_type": "text"
      },
      "source": [
        "<a href=\"https://colab.research.google.com/github/Aravindh020/NLP/blob/master/NLP.ipynb\" target=\"_parent\"><img src=\"https://colab.research.google.com/assets/colab-badge.svg\" alt=\"Open In Colab\"/></a>"
      ]
    },
    {
      "cell_type": "code",
      "metadata": {
        "id": "Oj8DMHU1dF5I",
        "colab_type": "code",
        "colab": {}
      },
      "source": [
        "import spacy"
      ],
      "execution_count": 0,
      "outputs": []
    },
    {
      "cell_type": "code",
      "metadata": {
        "id": "k7UxF2tqdTlx",
        "colab_type": "code",
        "colab": {}
      },
      "source": [
        "from spacy import displacy"
      ],
      "execution_count": 0,
      "outputs": []
    },
    {
      "cell_type": "code",
      "metadata": {
        "id": "r1GuScoHda3O",
        "colab_type": "code",
        "colab": {}
      },
      "source": [
        "nlp = spacy.load('en_core_web_sm')"
      ],
      "execution_count": 0,
      "outputs": []
    },
    {
      "cell_type": "code",
      "metadata": {
        "id": "Zv1gxE-odgVs",
        "colab_type": "code",
        "colab": {}
      },
      "source": [
        "doc = \"Hi there, I'm Aravind, I'm a Backend developer\""
      ],
      "execution_count": 0,
      "outputs": []
    },
    {
      "cell_type": "code",
      "metadata": {
        "id": "hUzEtmdneo3u",
        "colab_type": "code",
        "colab": {}
      },
      "source": [
        "docs = nlp(doc)"
      ],
      "execution_count": 0,
      "outputs": []
    },
    {
      "cell_type": "code",
      "metadata": {
        "id": "ikA8fsixewEv",
        "colab_type": "code",
        "colab": {
          "base_uri": "https://localhost:8080/",
          "height": 218
        },
        "outputId": "d6423002-3ced-44a5-aeda-69036506dd36"
      },
      "source": [
        "for token in docs:\n",
        "    print(token)"
      ],
      "execution_count": 45,
      "outputs": [
        {
          "output_type": "stream",
          "text": [
            "Hi\n",
            "there\n",
            ",\n",
            "I\n",
            "'m\n",
            "Aravind\n",
            ",\n",
            "I\n",
            "'m\n",
            "a\n",
            "Backend\n",
            "developer\n"
          ],
          "name": "stdout"
        }
      ]
    },
    {
      "cell_type": "code",
      "metadata": {
        "id": "vT2nYg0RfTVl",
        "colab_type": "code",
        "colab": {
          "base_uri": "https://localhost:8080/",
          "height": 218
        },
        "outputId": "914046a8-e4d1-4cfa-eeac-03118cb3375a"
      },
      "source": [
        "for lem in docs:\n",
        "    print(lem.text, lem.lemma_)"
      ],
      "execution_count": 46,
      "outputs": [
        {
          "output_type": "stream",
          "text": [
            "Hi hi\n",
            "there there\n",
            ", ,\n",
            "I -PRON-\n",
            "'m be\n",
            "Aravind Aravind\n",
            ", ,\n",
            "I -PRON-\n",
            "'m be\n",
            "a a\n",
            "Backend Backend\n",
            "developer developer\n"
          ],
          "name": "stdout"
        }
      ]
    },
    {
      "cell_type": "code",
      "metadata": {
        "id": "WYu7NVpxfkTF",
        "colab_type": "code",
        "colab": {
          "base_uri": "https://localhost:8080/",
          "height": 218
        },
        "outputId": "82d6fba9-66a5-42be-980e-d3798999ea3a"
      },
      "source": [
        "for token in docs:\n",
        "    print(token.text, token.pos_)"
      ],
      "execution_count": 47,
      "outputs": [
        {
          "output_type": "stream",
          "text": [
            "Hi INTJ\n",
            "there ADV\n",
            ", PUNCT\n",
            "I PRON\n",
            "'m VERB\n",
            "Aravind PROPN\n",
            ", PUNCT\n",
            "I PRON\n",
            "'m VERB\n",
            "a DET\n",
            "Backend PROPN\n",
            "developer NOUN\n"
          ],
          "name": "stdout"
        }
      ]
    },
    {
      "cell_type": "code",
      "metadata": {
        "id": "_uLxAOonf0A-",
        "colab_type": "code",
        "colab": {}
      },
      "source": [
        "from spacy.lang.en.stop_words import STOP_WORDS"
      ],
      "execution_count": 0,
      "outputs": []
    },
    {
      "cell_type": "code",
      "metadata": {
        "id": "0rVijYtrf7ii",
        "colab_type": "code",
        "colab": {}
      },
      "source": [
        "stopwords = list(STOP_WORDS)"
      ],
      "execution_count": 0,
      "outputs": []
    },
    {
      "cell_type": "code",
      "metadata": {
        "id": "M-VzYDLtgAto",
        "colab_type": "code",
        "colab": {
          "base_uri": "https://localhost:8080/",
          "height": 54
        },
        "outputId": "2713bb1c-1cce-475b-d87f-b046b36b2d0d"
      },
      "source": [
        "print(stopwords)"
      ],
      "execution_count": 50,
      "outputs": [
        {
          "output_type": "stream",
          "text": [
            "['latterly', 'of', 'everything', 'within', 'hence', 'thence', 'very', 'never', 'every', 'once', 'again', 'he', 'ever', 'yours', \"'m\", 'onto', '’re', 'so', 'to', 'than', 'an', 'everywhere', 'hers', 'among', 'below', 'ours', 'beside', 'one', 'several', 'their', 'whatever', 'alone', 'first', 'me', 'meanwhile', 'themselves', 'hereby', 'well', 'whereby', 'whole', 'former', 'then', 'on', 'can', 'others', 'together', 'almost', 'ca', 'amount', 'anyone', 'before', 'ten', 'been', 'seems', 'all', 'various', 'above', 'nowhere', 'least', '‘m', 'was', 'as', 'side', 'noone', 'is', '’ll', 'some', 'hereafter', 'yourselves', 'nobody', 'behind', 'wherein', 'besides', 'becomes', 'my', 'twenty', 'yourself', 'whose', 'anyhow', '‘s', 'him', 'does', 'say', 'enough', \"'re\", 'via', 'his', 'full', 'much', \"'s\", 'down', 'will', 'mine', 'did', 'am', 'therein', 'about', 'because', 'have', 'its', 'that', 'amongst', 'being', 'empty', 'serious', 'she', 'sometime', 'they', 'this', 'show', 'thru', 'too', 'n’t', 'regarding', \"'d\", 'otherwise', 'hereupon', 'you', 'i', 'perhaps', 'her', 'how', 'although', 'both', 'done', 'most', 'off', 'also', 'it', 'towards', 'becoming', 'same', 'another', 'since', 'formerly', 'when', 'bottom', 'else', 'moreover', 'must', 'do', 'himself', 'put', 'either', 'who', 'around', 'nevertheless', 'thereby', \"'ve\", 'four', 'third', 'upon', 'used', \"n't\", 'someone', 'those', 'there', 'has', 'go', 'under', 'twelve', 'now', 'own', '’ve', 'though', 'really', 'two', 'out', 'please', 'afterwards', 'indeed', 'seemed', 'whom', 'beyond', 'but', 'none', 'seeming', 'during', 'up', 'a', 'take', 'or', 'at', 'against', 'into', 'eight', 'where', 'across', 'doing', 'nine', '’d', 'here', 'anyway', 'had', 'however', 'namely', 'nor', 'sometimes', 'more', 'last', 'from', 'are', 'our', 'rather', 'the', 'whoever', 'many', 'for', 'n‘t', 'herein', 'these', 'beforehand', 'in', '‘d', '’s', 'be', 'fifty', 're', 'throughout', 'latter', 'see', 'sixty', 'three', 'few', 'if', 'whenever', 'fifteen', 'whether', 'why', 'with', 'yet', 'between', 'make', 'back', 'wherever', 'each', 'move', 'thereupon', 'unless', 'would', 'them', 'us', 'your', 'neither', 'quite', 'through', 'just', 'whereafter', 'therefore', 'forty', 'ourselves', 'per', 'thus', 'whereas', 'always', '‘re', 'become', 'without', 'we', 'other', 'while', 'should', 'anywhere', 'whither', 'could', 'front', 'mostly', 'such', '’m', 'itself', 'eleven', 'only', 'next', 'seem', 'top', 'keep', 'call', 'using', 'were', 'may', 'myself', 'often', 'what', 'by', 'still', 'part', 'get', \"'ll\", 'whereupon', 'which', 'became', 'along', 'except', 'five', 'thereafter', 'and', 'nothing', 'elsewhere', 'even', 'less', 'something', 'toward', 'further', 'give', 'over', 'cannot', 'hundred', 'due', 'everyone', 'no', 'after', 'any', 'not', 'made', 'somehow', 'whence', 'somewhere', 'until', 'anything', '‘ll', '‘ve', 'already', 'might', 'six', 'herself', 'name']\n"
          ],
          "name": "stdout"
        }
      ]
    },
    {
      "cell_type": "code",
      "metadata": {
        "id": "4Go1EqzUgHYn",
        "colab_type": "code",
        "colab": {
          "base_uri": "https://localhost:8080/",
          "height": 34
        },
        "outputId": "55fb54f1-715f-4d7c-f278-c1d260d7f863"
      },
      "source": [
        "print(len(stopwords))"
      ],
      "execution_count": 51,
      "outputs": [
        {
          "output_type": "stream",
          "text": [
            "326\n"
          ],
          "name": "stdout"
        }
      ]
    },
    {
      "cell_type": "code",
      "metadata": {
        "id": "yAXdMqjggLYd",
        "colab_type": "code",
        "colab": {
          "base_uri": "https://localhost:8080/",
          "height": 118
        },
        "outputId": "423e5b27-3136-44ff-a8df-dc04861ff24f"
      },
      "source": [
        "for token in docs:\n",
        "  if token.is_stop == False:\n",
        "        print(token)"
      ],
      "execution_count": 52,
      "outputs": [
        {
          "output_type": "stream",
          "text": [
            "Hi\n",
            ",\n",
            "Aravind\n",
            ",\n",
            "Backend\n",
            "developer\n"
          ],
          "name": "stdout"
        }
      ]
    },
    {
      "cell_type": "code",
      "metadata": {
        "id": "1y6AP5DSgb5H",
        "colab_type": "code",
        "colab": {}
      },
      "source": [
        ""
      ],
      "execution_count": 0,
      "outputs": []
    }
  ]
}